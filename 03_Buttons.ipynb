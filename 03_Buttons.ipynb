{
 "cells": [
  {
   "cell_type": "markdown",
   "id": "e359aece",
   "metadata": {},
   "source": [
    "# 3. Buttons"
   ]
  },
  {
   "cell_type": "code",
   "execution_count": 44,
   "id": "6aa69b22",
   "metadata": {},
   "outputs": [],
   "source": [
    "# Import everything from Tkinter library\n",
    "from tkinter import *"
   ]
  },
  {
   "cell_type": "code",
   "execution_count": 45,
   "id": "15355dd5",
   "metadata": {},
   "outputs": [],
   "source": [
    "root = Tk()"
   ]
  },
  {
   "cell_type": "code",
   "execution_count": 46,
   "id": "6b92c80c",
   "metadata": {},
   "outputs": [],
   "source": [
    "# Define a function to do some action when the button is clicked.\n",
    "\n",
    "def myClick():\n",
    "    myLabel1 = Label(root, text=\"You just clicked a Button!!\")\n",
    "    myLabel1.pack()"
   ]
  },
  {
   "cell_type": "code",
   "execution_count": 47,
   "id": "d59aee01",
   "metadata": {},
   "outputs": [],
   "source": [
    "# Create a button & Pack\n",
    "# The arguments like padx & pady is for Button padding\n",
    "# The arguments like fg & bg is for fore gorund text colur & background colur respectively. We can also use hex codes instead of colur.\n",
    "# The argument test is for Button name\n",
    "# The argument command with function is used to do the action. If we do not give this argument, no action will be done with the button click.\n",
    "myButton = Button(root, text=\"Click Me!\", padx=50, pady=10, command=myClick, fg='blue', bg='grey')\n",
    "myButton.pack()"
   ]
  },
  {
   "cell_type": "code",
   "execution_count": 48,
   "id": "94f89aaa",
   "metadata": {},
   "outputs": [],
   "source": [
    "root.mainloop()"
   ]
  },
  {
   "cell_type": "code",
   "execution_count": null,
   "id": "e0ea027e",
   "metadata": {},
   "outputs": [],
   "source": []
  }
 ],
 "metadata": {
  "kernelspec": {
   "display_name": "Python 3",
   "language": "python",
   "name": "python3"
  },
  "language_info": {
   "codemirror_mode": {
    "name": "ipython",
    "version": 3
   },
   "file_extension": ".py",
   "mimetype": "text/x-python",
   "name": "python",
   "nbconvert_exporter": "python",
   "pygments_lexer": "ipython3",
   "version": "3.8.8"
  }
 },
 "nbformat": 4,
 "nbformat_minor": 5
}
