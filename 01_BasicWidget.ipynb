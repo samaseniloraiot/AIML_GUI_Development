{
 "cells": [
  {
   "cell_type": "markdown",
   "id": "8d7d692b",
   "metadata": {},
   "source": [
    "# 1. Basic Widget"
   ]
  },
  {
   "cell_type": "code",
   "execution_count": 51,
   "id": "4594e416",
   "metadata": {},
   "outputs": [],
   "source": [
    "# Import Tkinter library\n",
    "from tkinter import *"
   ]
  },
  {
   "cell_type": "code",
   "execution_count": 52,
   "id": "3e1adfb5",
   "metadata": {},
   "outputs": [],
   "source": [
    "root = Tk()"
   ]
  },
  {
   "cell_type": "code",
   "execution_count": 53,
   "id": "ca67a4f1",
   "metadata": {},
   "outputs": [],
   "source": [
    "# Cerate a Label Widget\n",
    "myLabel = Label(root, text=\"Hello World!\")"
   ]
  },
  {
   "cell_type": "code",
   "execution_count": 54,
   "id": "04858434",
   "metadata": {},
   "outputs": [],
   "source": [
    "# Showing onto the screen (Position the stuff using Pack)\n",
    "myLabel.pack()"
   ]
  },
  {
   "cell_type": "code",
   "execution_count": null,
   "id": "4aa19e02",
   "metadata": {},
   "outputs": [],
   "source": [
    "# Now write main loop\n",
    "root.mainloop()"
   ]
  },
  {
   "cell_type": "code",
   "execution_count": null,
   "id": "a0362651",
   "metadata": {},
   "outputs": [],
   "source": []
  },
  {
   "cell_type": "code",
   "execution_count": null,
   "id": "f5634f4c",
   "metadata": {},
   "outputs": [],
   "source": []
  }
 ],
 "metadata": {
  "kernelspec": {
   "display_name": "Python 3",
   "language": "python",
   "name": "python3"
  },
  "language_info": {
   "codemirror_mode": {
    "name": "ipython",
    "version": 3
   },
   "file_extension": ".py",
   "mimetype": "text/x-python",
   "name": "python",
   "nbconvert_exporter": "python",
   "pygments_lexer": "ipython3",
   "version": "3.8.8"
  }
 },
 "nbformat": 4,
 "nbformat_minor": 5
}
