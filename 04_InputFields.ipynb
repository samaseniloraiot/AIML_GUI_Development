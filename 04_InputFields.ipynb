{
 "cells": [
  {
   "cell_type": "markdown",
   "id": "e5df88db",
   "metadata": {},
   "source": [
    "# 4. InputBox & Field"
   ]
  },
  {
   "cell_type": "code",
   "execution_count": 16,
   "id": "c40100e0",
   "metadata": {},
   "outputs": [],
   "source": [
    "# Import everything from Tkinter\n",
    "\n",
    "from tkinter import *"
   ]
  },
  {
   "cell_type": "code",
   "execution_count": 17,
   "id": "b4b63309",
   "metadata": {},
   "outputs": [],
   "source": [
    "root = Tk()"
   ]
  },
  {
   "cell_type": "code",
   "execution_count": 18,
   "id": "cd30068d",
   "metadata": {},
   "outputs": [],
   "source": [
    "e = Entry(root, width=50, fg='black', bg='grey')\n",
    "e.pack()\n",
    "e.insert(0, \"Enter Your Name: \")"
   ]
  },
  {
   "cell_type": "code",
   "execution_count": 19,
   "id": "98e29bac",
   "metadata": {},
   "outputs": [],
   "source": [
    "def myClick():\n",
    "    inputText = \"Hello \" + e.get() + \"!!!\"\n",
    "    myLabel1 = Label(root, text=inputText)\n",
    "    myLabel1.pack()"
   ]
  },
  {
   "cell_type": "code",
   "execution_count": 20,
   "id": "0b566333",
   "metadata": {},
   "outputs": [],
   "source": [
    "myButton = Button(root, text=\"Enter Your Name\", command=myClick, fg='blue', bg='grey', padx=50, pady=10)\n",
    "myButton.pack()"
   ]
  },
  {
   "cell_type": "code",
   "execution_count": 21,
   "id": "d8a4e520",
   "metadata": {},
   "outputs": [],
   "source": [
    "root.mainloop()"
   ]
  },
  {
   "cell_type": "code",
   "execution_count": null,
   "id": "ec9c4441",
   "metadata": {},
   "outputs": [],
   "source": []
  }
 ],
 "metadata": {
  "kernelspec": {
   "display_name": "Python 3",
   "language": "python",
   "name": "python3"
  },
  "language_info": {
   "codemirror_mode": {
    "name": "ipython",
    "version": 3
   },
   "file_extension": ".py",
   "mimetype": "text/x-python",
   "name": "python",
   "nbconvert_exporter": "python",
   "pygments_lexer": "ipython3",
   "version": "3.8.8"
  }
 },
 "nbformat": 4,
 "nbformat_minor": 5
}
