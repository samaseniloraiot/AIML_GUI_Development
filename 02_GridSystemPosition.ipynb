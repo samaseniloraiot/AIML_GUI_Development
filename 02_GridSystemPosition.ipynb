{
 "cells": [
  {
   "cell_type": "markdown",
   "id": "5d0bee44",
   "metadata": {},
   "source": [
    "# 2. Position with Tinkers Grid System"
   ]
  },
  {
   "cell_type": "markdown",
   "id": "a416b228",
   "metadata": {},
   "source": [
    "#### Grid system is exactly like a grid, rows and columns"
   ]
  },
  {
   "cell_type": "code",
   "execution_count": 10,
   "id": "464af563",
   "metadata": {},
   "outputs": [],
   "source": [
    "# Import everything from Tkinter\n",
    "from tkinter import *"
   ]
  },
  {
   "cell_type": "code",
   "execution_count": 11,
   "id": "a0c5ab92",
   "metadata": {},
   "outputs": [],
   "source": [
    "root = Tk()"
   ]
  },
  {
   "cell_type": "code",
   "execution_count": 12,
   "id": "815a817c",
   "metadata": {},
   "outputs": [],
   "source": [
    "myLabel2 = Label(root, text=\"My Text 1 using Grid\")\n",
    "myLabel3 = Label(root, text='My Name is Samaseni')"
   ]
  },
  {
   "cell_type": "code",
   "execution_count": 13,
   "id": "ecbd1352",
   "metadata": {},
   "outputs": [],
   "source": [
    "# Put the newly created labels in the Grid using grid\n",
    "myLabel2.grid(row=0, column=0)\n",
    "myLabel3.grid(row=1, column=0)"
   ]
  },
  {
   "cell_type": "code",
   "execution_count": 14,
   "id": "4c153e79",
   "metadata": {},
   "outputs": [],
   "source": [
    "# Now write main loop\n",
    "root.mainloop()"
   ]
  },
  {
   "cell_type": "code",
   "execution_count": null,
   "id": "a0362651",
   "metadata": {},
   "outputs": [],
   "source": []
  }
 ],
 "metadata": {
  "kernelspec": {
   "display_name": "Python 3",
   "language": "python",
   "name": "python3"
  },
  "language_info": {
   "codemirror_mode": {
    "name": "ipython",
    "version": 3
   },
   "file_extension": ".py",
   "mimetype": "text/x-python",
   "name": "python",
   "nbconvert_exporter": "python",
   "pygments_lexer": "ipython3",
   "version": "3.8.8"
  }
 },
 "nbformat": 4,
 "nbformat_minor": 5
}
