{
 "cells": [
  {
   "cell_type": "markdown",
   "id": "62cac5cb",
   "metadata": {},
   "source": [
    "# 5. Builing a Simple Calculator Application"
   ]
  },
  {
   "cell_type": "code",
   "execution_count": 10,
   "id": "7ee6833d",
   "metadata": {},
   "outputs": [],
   "source": [
    "# Import everything from Tkinter\n",
    "from tkinter import *"
   ]
  },
  {
   "cell_type": "code",
   "execution_count": 11,
   "id": "5b5fc0aa",
   "metadata": {},
   "outputs": [],
   "source": [
    "root = Tk()"
   ]
  },
  {
   "cell_type": "code",
   "execution_count": 12,
   "id": "689ec7d7",
   "metadata": {},
   "outputs": [
    {
     "data": {
      "text/plain": [
       "''"
      ]
     },
     "execution_count": 12,
     "metadata": {},
     "output_type": "execute_result"
    }
   ],
   "source": [
    "# Change the title to Simple Calculator\n",
    "root.title(\"Simple Calculator\")"
   ]
  },
  {
   "cell_type": "code",
   "execution_count": 13,
   "id": "52ef3262",
   "metadata": {},
   "outputs": [],
   "source": [
    "# Create entry points\n",
    "e = Entry(root, width=40, borderwidth=5, fg='black', bg='grey')\n",
    "e.grid(row=0, column=0, columnspan=3, padx=10, pady=10)"
   ]
  },
  {
   "cell_type": "code",
   "execution_count": 17,
   "id": "11ce8f24",
   "metadata": {},
   "outputs": [],
   "source": [
    "# Define Button Click functionality\n",
    "def buttonClick(number):\n",
    "    current = e.get()\n",
    "    e.delete(0, END)\n",
    "    e.insert(0, str(current) + str(number))\n",
    "\n",
    "# Define Addition Button functionality\n",
    "def buttonAddition():\n",
    "    first_number = e.get()\n",
    "    global f_num\n",
    "    global math\n",
    "    math = '+'\n",
    "    f_num = int(first_number)\n",
    "    e.delete(0, END)\n",
    "\n",
    "# Define Substraction Button functionality\n",
    "def buttonSubstraction():\n",
    "    first_number = e.get()\n",
    "    global f_num\n",
    "    global math\n",
    "    math = '-'\n",
    "    f_num = int(first_number)\n",
    "    e.delete(0, END)\n",
    "\n",
    "# Define Multiplication Button functionality\n",
    "def buttonMultiplication():\n",
    "    first_number = e.get()\n",
    "    global f_num\n",
    "    global math\n",
    "    math = '*'\n",
    "    f_num = int(first_number)\n",
    "    e.delete(0, END)\n",
    "\n",
    "# Define Division Button functionality\n",
    "def buttonDivision():\n",
    "    first_number = e.get()\n",
    "    global f_num\n",
    "    global math\n",
    "    math = '/'\n",
    "    f_num = int(first_number)\n",
    "    e.delete(0, END)\n",
    "\n",
    "# Define Clear Buttion functionality\n",
    "def buttonClear():\n",
    "    e.delete(0, END)\n",
    "\n",
    "# Define Equal Button functionality\n",
    "def buttonEqual():\n",
    "    second_num = e.get()\n",
    "    e.delete(0, END)\n",
    "    \n",
    "    if(math == '+'):\n",
    "        e.insert(0, f_num + int(second_num))\n",
    "\n",
    "    if(math == '-'):\n",
    "        e.insert(0, f_num - int(second_num))\n",
    "\n",
    "    if(math == '*'):\n",
    "        e.insert(0, f_num * int(second_num))\n",
    "        \n",
    "    if(math == '/'):\n",
    "        e.insert(0, f_num / int(second_num))\n",
    "            \n"
   ]
  },
  {
   "cell_type": "code",
   "execution_count": 18,
   "id": "48b99813",
   "metadata": {},
   "outputs": [],
   "source": [
    "# Define Buttons\n",
    "button_1 = Button(root, text='1', padx=40, pady=20, command=lambda:buttonClick(1))\n",
    "button_2 = Button(root, text='2', padx=40, pady=20, command=lambda:buttonClick(2))\n",
    "button_3 = Button(root, text='3', padx=40, pady=20, command=lambda:buttonClick(3))\n",
    "button_4 = Button(root, text='4', padx=40, pady=20, command=lambda:buttonClick(4))\n",
    "button_5 = Button(root, text='5', padx=40, pady=20, command=lambda:buttonClick(5))\n",
    "button_6 = Button(root, text='6', padx=40, pady=20, command=lambda:buttonClick(6))\n",
    "button_7 = Button(root, text='7', padx=40, pady=20, command=lambda:buttonClick(7))\n",
    "button_8 = Button(root, text='8', padx=40, pady=20, command=lambda:buttonClick(8))\n",
    "button_9 = Button(root, text='9', padx=40, pady=20, command=lambda:buttonClick(9))\n",
    "button_0 = Button(root, text='0', padx=40, pady=20, command=lambda:buttonClick(0))\n",
    "\n",
    "button_add = Button(root, text='+', padx=40, pady=20, command=buttonAddition)\n",
    "button_sub = Button(root, text='-', padx=40, pady=20, command=buttonSubstraction)\n",
    "button_mul = Button(root, text='*', padx=40, pady=20, command=buttonMultiplication)\n",
    "button_div = Button(root, text='/', padx=40, pady=20, command=buttonDivision)\n",
    "\n",
    "button_clear = Button(root, text='Clear', padx=30, pady=20, command=buttonClear)\n",
    "button_equal = Button(root, text='=', padx=40, pady=20, command=buttonEqual)\n"
   ]
  },
  {
   "cell_type": "code",
   "execution_count": 19,
   "id": "f823f1b3",
   "metadata": {},
   "outputs": [],
   "source": [
    "# Put the buttons on the screen\n",
    "button_1.grid(row=3, column=0)\n",
    "button_2.grid(row=3, column=1)\n",
    "button_3.grid(row=3, column=2)\n",
    "button_4.grid(row=2, column=0)\n",
    "button_5.grid(row=2, column=1)\n",
    "button_6.grid(row=2, column=2)\n",
    "button_7.grid(row=1, column=0)\n",
    "button_8.grid(row=1, column=1)\n",
    "button_9.grid(row=1, column=2)\n",
    "button_0.grid(row=4, column=0)\n",
    "button_add.grid(row=4, column=1)\n",
    "button_sub.grid(row=4, column=2)\n",
    "button_mul.grid(row=5, column=1)\n",
    "button_div.grid(row=5, column=2)\n",
    "button_clear.grid(row=5, column=0)\n",
    "button_equal.grid(row=6, column=0)"
   ]
  },
  {
   "cell_type": "code",
   "execution_count": 20,
   "id": "7965689c",
   "metadata": {},
   "outputs": [],
   "source": [
    "root.mainloop()"
   ]
  },
  {
   "cell_type": "code",
   "execution_count": null,
   "id": "5e8d4aaa",
   "metadata": {},
   "outputs": [],
   "source": []
  },
  {
   "cell_type": "code",
   "execution_count": null,
   "id": "5ac5276e",
   "metadata": {},
   "outputs": [],
   "source": []
  },
  {
   "cell_type": "code",
   "execution_count": null,
   "id": "dfadb771",
   "metadata": {},
   "outputs": [],
   "source": []
  }
 ],
 "metadata": {
  "kernelspec": {
   "display_name": "Python 3",
   "language": "python",
   "name": "python3"
  },
  "language_info": {
   "codemirror_mode": {
    "name": "ipython",
    "version": 3
   },
   "file_extension": ".py",
   "mimetype": "text/x-python",
   "name": "python",
   "nbconvert_exporter": "python",
   "pygments_lexer": "ipython3",
   "version": "3.8.8"
  }
 },
 "nbformat": 4,
 "nbformat_minor": 5
}
